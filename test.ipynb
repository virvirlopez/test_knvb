{
 "cells": [
  {
   "cell_type": "code",
   "execution_count": 76,
   "metadata": {},
   "outputs": [
    {
     "name": "stdout",
     "output_type": "stream",
     "text": [
      "Requirement already satisfied: pip in /Users/virginia/.pyenv/versions/3.10/envs/thor_310/lib/python3.10/site-packages (21.2.3)\n",
      "Requirement already satisfied: install in /Users/virginia/.pyenv/versions/3.10/envs/thor_310/lib/python3.10/site-packages (1.3.5)\n",
      "Requirement already satisfied: azure-ai-ml in /Users/virginia/.pyenv/versions/3.10/envs/thor_310/lib/python3.10/site-packages (1.17.1)\n",
      "Requirement already satisfied: azure-identity in /Users/virginia/.pyenv/versions/3.10/envs/thor_310/lib/python3.10/site-packages (1.15.0)\n",
      "Requirement already satisfied: azure-core>=1.23.0 in /Users/virginia/.pyenv/versions/3.10/envs/thor_310/lib/python3.10/site-packages (from azure-ai-ml) (1.29.6)\n",
      "Requirement already satisfied: azure-common>=1.1 in /Users/virginia/.pyenv/versions/3.10/envs/thor_310/lib/python3.10/site-packages (from azure-ai-ml) (1.1.28)\n",
      "Requirement already satisfied: azure-storage-file-datalake>=12.2.0 in /Users/virginia/.pyenv/versions/3.10/envs/thor_310/lib/python3.10/site-packages (from azure-ai-ml) (12.14.0)\n",
      "Requirement already satisfied: marshmallow>=3.5 in /Users/virginia/.pyenv/versions/3.10/envs/thor_310/lib/python3.10/site-packages (from azure-ai-ml) (3.21.3)\n",
      "Requirement already satisfied: opencensus-ext-azure in /Users/virginia/.pyenv/versions/3.10/envs/thor_310/lib/python3.10/site-packages (from azure-ai-ml) (1.1.11)\n",
      "Requirement already satisfied: pydash>=6.0.0 in /Users/virginia/.pyenv/versions/3.10/envs/thor_310/lib/python3.10/site-packages (from azure-ai-ml) (8.0.1)\n",
      "Requirement already satisfied: azure-mgmt-core>=1.3.0 in /Users/virginia/.pyenv/versions/3.10/envs/thor_310/lib/python3.10/site-packages (from azure-ai-ml) (1.4.0)\n",
      "Requirement already satisfied: pyjwt in /Users/virginia/.pyenv/versions/3.10/envs/thor_310/lib/python3.10/site-packages (from azure-ai-ml) (2.8.0)\n",
      "Requirement already satisfied: isodate in /Users/virginia/.pyenv/versions/3.10/envs/thor_310/lib/python3.10/site-packages (from azure-ai-ml) (0.6.1)\n",
      "Requirement already satisfied: colorama in /Users/virginia/.pyenv/versions/3.10/envs/thor_310/lib/python3.10/site-packages (from azure-ai-ml) (0.4.6)\n",
      "Requirement already satisfied: jsonschema>=4.0.0 in /Users/virginia/.pyenv/versions/3.10/envs/thor_310/lib/python3.10/site-packages (from azure-ai-ml) (4.17.3)\n",
      "Requirement already satisfied: opencensus-ext-logging in /Users/virginia/.pyenv/versions/3.10/envs/thor_310/lib/python3.10/site-packages (from azure-ai-ml) (0.1.1)\n",
      "Requirement already satisfied: pyyaml>=5.1.0 in /Users/virginia/.pyenv/versions/3.10/envs/thor_310/lib/python3.10/site-packages (from azure-ai-ml) (6.0)\n",
      "Requirement already satisfied: msrest>=0.6.18 in /Users/virginia/.pyenv/versions/3.10/envs/thor_310/lib/python3.10/site-packages (from azure-ai-ml) (0.7.1)\n",
      "Requirement already satisfied: typing-extensions in /Users/virginia/.pyenv/versions/3.10/envs/thor_310/lib/python3.10/site-packages (from azure-ai-ml) (4.10.0)\n",
      "Requirement already satisfied: tqdm in /Users/virginia/.pyenv/versions/3.10/envs/thor_310/lib/python3.10/site-packages (from azure-ai-ml) (4.66.4)\n",
      "Requirement already satisfied: strictyaml in /Users/virginia/.pyenv/versions/3.10/envs/thor_310/lib/python3.10/site-packages (from azure-ai-ml) (1.7.3)\n",
      "Requirement already satisfied: azure-storage-blob>=12.10.0 in /Users/virginia/.pyenv/versions/3.10/envs/thor_310/lib/python3.10/site-packages (from azure-ai-ml) (12.20.0)\n",
      "Requirement already satisfied: azure-storage-file-share in /Users/virginia/.pyenv/versions/3.10/envs/thor_310/lib/python3.10/site-packages (from azure-ai-ml) (12.16.0)\n",
      "Requirement already satisfied: cryptography>=2.5 in /Users/virginia/.pyenv/versions/3.10/envs/thor_310/lib/python3.10/site-packages (from azure-identity) (41.0.7)\n",
      "Requirement already satisfied: msal-extensions<2.0.0,>=0.3.0 in /Users/virginia/.pyenv/versions/3.10/envs/thor_310/lib/python3.10/site-packages (from azure-identity) (1.1.0)\n",
      "Requirement already satisfied: msal<2.0.0,>=1.24.0 in /Users/virginia/.pyenv/versions/3.10/envs/thor_310/lib/python3.10/site-packages (from azure-identity) (1.26.0)\n",
      "Requirement already satisfied: requests>=2.21.0 in /Users/virginia/.pyenv/versions/3.10/envs/thor_310/lib/python3.10/site-packages (from azure-core>=1.23.0->azure-ai-ml) (2.31.0)\n",
      "Requirement already satisfied: six>=1.11.0 in /Users/virginia/.pyenv/versions/3.10/envs/thor_310/lib/python3.10/site-packages (from azure-core>=1.23.0->azure-ai-ml) (1.16.0)\n",
      "Requirement already satisfied: anyio<5.0,>=3.0 in /Users/virginia/.pyenv/versions/3.10/envs/thor_310/lib/python3.10/site-packages (from azure-core>=1.23.0->azure-ai-ml) (3.7.1)\n",
      "Requirement already satisfied: sniffio>=1.1 in /Users/virginia/.pyenv/versions/3.10/envs/thor_310/lib/python3.10/site-packages (from anyio<5.0,>=3.0->azure-core>=1.23.0->azure-ai-ml) (1.3.0)\n",
      "Requirement already satisfied: exceptiongroup in /Users/virginia/.pyenv/versions/3.10/envs/thor_310/lib/python3.10/site-packages (from anyio<5.0,>=3.0->azure-core>=1.23.0->azure-ai-ml) (1.2.0)\n",
      "Requirement already satisfied: idna>=2.8 in /Users/virginia/.pyenv/versions/3.10/envs/thor_310/lib/python3.10/site-packages (from anyio<5.0,>=3.0->azure-core>=1.23.0->azure-ai-ml) (3.6)\n",
      "Requirement already satisfied: cffi>=1.12 in /Users/virginia/.pyenv/versions/3.10/envs/thor_310/lib/python3.10/site-packages (from cryptography>=2.5->azure-identity) (1.16.0)\n",
      "Requirement already satisfied: pycparser in /Users/virginia/.pyenv/versions/3.10/envs/thor_310/lib/python3.10/site-packages (from cffi>=1.12->cryptography>=2.5->azure-identity) (2.21)\n",
      "Requirement already satisfied: pyrsistent!=0.17.0,!=0.17.1,!=0.17.2,>=0.14.0 in /Users/virginia/.pyenv/versions/3.10/envs/thor_310/lib/python3.10/site-packages (from jsonschema>=4.0.0->azure-ai-ml) (0.19.3)\n",
      "Requirement already satisfied: attrs>=17.4.0 in /Users/virginia/.pyenv/versions/3.10/envs/thor_310/lib/python3.10/site-packages (from jsonschema>=4.0.0->azure-ai-ml) (23.1.0)\n",
      "Requirement already satisfied: packaging>=17.0 in /Users/virginia/.pyenv/versions/3.10/envs/thor_310/lib/python3.10/site-packages (from marshmallow>=3.5->azure-ai-ml) (23.2)\n",
      "Requirement already satisfied: portalocker<3,>=1.0 in /Users/virginia/.pyenv/versions/3.10/envs/thor_310/lib/python3.10/site-packages (from msal-extensions<2.0.0,>=0.3.0->azure-identity) (2.8.2)\n",
      "Requirement already satisfied: requests-oauthlib>=0.5.0 in /Users/virginia/.pyenv/versions/3.10/envs/thor_310/lib/python3.10/site-packages (from msrest>=0.6.18->azure-ai-ml) (1.3.1)\n",
      "Requirement already satisfied: certifi>=2017.4.17 in /Users/virginia/.pyenv/versions/3.10/envs/thor_310/lib/python3.10/site-packages (from msrest>=0.6.18->azure-ai-ml) (2023.11.17)\n",
      "Requirement already satisfied: charset-normalizer<4,>=2 in /Users/virginia/.pyenv/versions/3.10/envs/thor_310/lib/python3.10/site-packages (from requests>=2.21.0->azure-core>=1.23.0->azure-ai-ml) (3.3.2)\n",
      "Requirement already satisfied: urllib3<3,>=1.21.1 in /Users/virginia/.pyenv/versions/3.10/envs/thor_310/lib/python3.10/site-packages (from requests>=2.21.0->azure-core>=1.23.0->azure-ai-ml) (1.26.18)\n",
      "Requirement already satisfied: oauthlib>=3.0.0 in /Users/virginia/.pyenv/versions/3.10/envs/thor_310/lib/python3.10/site-packages (from requests-oauthlib>=0.5.0->msrest>=0.6.18->azure-ai-ml) (3.2.2)\n",
      "Requirement already satisfied: opencensus<1.0.0,>=0.11.3 in /Users/virginia/.pyenv/versions/3.10/envs/thor_310/lib/python3.10/site-packages (from opencensus-ext-azure->azure-ai-ml) (0.11.3)\n",
      "Requirement already satisfied: psutil>=5.6.3 in /Users/virginia/.pyenv/versions/3.10/envs/thor_310/lib/python3.10/site-packages (from opencensus-ext-azure->azure-ai-ml) (5.9.6)\n",
      "Requirement already satisfied: opencensus-context>=0.1.3 in /Users/virginia/.pyenv/versions/3.10/envs/thor_310/lib/python3.10/site-packages (from opencensus<1.0.0,>=0.11.3->opencensus-ext-azure->azure-ai-ml) (0.1.3)\n",
      "Requirement already satisfied: google-api-core<3.0.0,>=1.0.0 in /Users/virginia/.pyenv/versions/3.10/envs/thor_310/lib/python3.10/site-packages (from opencensus<1.0.0,>=0.11.3->opencensus-ext-azure->azure-ai-ml) (2.12.0)\n",
      "Requirement already satisfied: google-auth<3.0.dev0,>=2.14.1 in /Users/virginia/.pyenv/versions/3.10/envs/thor_310/lib/python3.10/site-packages (from google-api-core<3.0.0,>=1.0.0->opencensus<1.0.0,>=0.11.3->opencensus-ext-azure->azure-ai-ml) (2.25.2)\n",
      "Requirement already satisfied: googleapis-common-protos<2.0.dev0,>=1.56.2 in /Users/virginia/.pyenv/versions/3.10/envs/thor_310/lib/python3.10/site-packages (from google-api-core<3.0.0,>=1.0.0->opencensus<1.0.0,>=0.11.3->opencensus-ext-azure->azure-ai-ml) (1.61.0)\n",
      "Requirement already satisfied: protobuf!=3.20.0,!=3.20.1,!=4.21.0,!=4.21.1,!=4.21.2,!=4.21.3,!=4.21.4,!=4.21.5,<5.0.0.dev0,>=3.19.5 in /Users/virginia/.pyenv/versions/3.10/envs/thor_310/lib/python3.10/site-packages (from google-api-core<3.0.0,>=1.0.0->opencensus<1.0.0,>=0.11.3->opencensus-ext-azure->azure-ai-ml) (4.24.4)\n",
      "Requirement already satisfied: rsa<5,>=3.1.4 in /Users/virginia/.pyenv/versions/3.10/envs/thor_310/lib/python3.10/site-packages (from google-auth<3.0.dev0,>=2.14.1->google-api-core<3.0.0,>=1.0.0->opencensus<1.0.0,>=0.11.3->opencensus-ext-azure->azure-ai-ml) (4.9)\n",
      "Requirement already satisfied: cachetools<6.0,>=2.0.0 in /Users/virginia/.pyenv/versions/3.10/envs/thor_310/lib/python3.10/site-packages (from google-auth<3.0.dev0,>=2.14.1->google-api-core<3.0.0,>=1.0.0->opencensus<1.0.0,>=0.11.3->opencensus-ext-azure->azure-ai-ml) (5.3.2)\n",
      "Requirement already satisfied: pyasn1-modules>=0.2.1 in /Users/virginia/.pyenv/versions/3.10/envs/thor_310/lib/python3.10/site-packages (from google-auth<3.0.dev0,>=2.14.1->google-api-core<3.0.0,>=1.0.0->opencensus<1.0.0,>=0.11.3->opencensus-ext-azure->azure-ai-ml) (0.3.0)\n",
      "Requirement already satisfied: pyasn1<0.6.0,>=0.4.6 in /Users/virginia/.pyenv/versions/3.10/envs/thor_310/lib/python3.10/site-packages (from pyasn1-modules>=0.2.1->google-auth<3.0.dev0,>=2.14.1->google-api-core<3.0.0,>=1.0.0->opencensus<1.0.0,>=0.11.3->opencensus-ext-azure->azure-ai-ml) (0.5.1)\n",
      "Requirement already satisfied: python-dateutil>=2.6.0 in /Users/virginia/.pyenv/versions/3.10/envs/thor_310/lib/python3.10/site-packages (from strictyaml->azure-ai-ml) (2.8.2)\n",
      "\u001b[33mWARNING: You are using pip version 21.2.3; however, version 24.1.2 is available.\n",
      "You should consider upgrading via the '/Users/virginia/.pyenv/versions/3.10/envs/thor_310/bin/python3 -m pip install --upgrade pip' command.\u001b[0m\n"
     ]
    }
   ],
   "source": [
    "!pip install pip install azure-ai-ml azure-identity\n",
    "from azure.ai.ml import MLClient\n",
    "from azure.ai.ml.entities import Model\n",
    "from azure.identity import DefaultAzureCredential\n",
    "\n",
    "subscription_id = \"5ddf05c0-b972-44ca-b90a-3e49b5de80dd\"\n",
    "resource_group = \"cvbia_test\"\n",
    "workspace = \"test-knvb-ml\"\n",
    "\n",
    "ml_client = MLClient(DefaultAzureCredential(), subscription_id, resource_group, workspace)"
   ]
  },
  {
   "cell_type": "code",
   "execution_count": 77,
   "metadata": {},
   "outputs": [],
   "source": [
    "import pandas as pd\n",
    "\n",
    "white_wine = pd.read_csv(\"winequality-white.csv\", sep=\";\")\n",
    "red_wine = pd.read_csv(\"winequality-red.csv\", sep=\",\")\n",
    "\n"
   ]
  },
  {
   "cell_type": "code",
   "execution_count": 78,
   "metadata": {},
   "outputs": [],
   "source": [
    "red_wine['is_red'] = 1\n",
    "white_wine['is_red'] = 0\n",
    "\n",
    "data = pd.concat([red_wine, white_wine], axis=0)\n",
    "\n",
    "# Remove spaces from column names\n",
    "data.rename(columns=lambda x: x.replace(' ', '_'), inplace=True)"
   ]
  },
  {
   "cell_type": "code",
   "execution_count": 79,
   "metadata": {},
   "outputs": [
    {
     "data": {
      "text/html": [
       "<div>\n",
       "<style scoped>\n",
       "    .dataframe tbody tr th:only-of-type {\n",
       "        vertical-align: middle;\n",
       "    }\n",
       "\n",
       "    .dataframe tbody tr th {\n",
       "        vertical-align: top;\n",
       "    }\n",
       "\n",
       "    .dataframe thead th {\n",
       "        text-align: right;\n",
       "    }\n",
       "</style>\n",
       "<table border=\"1\" class=\"dataframe\">\n",
       "  <thead>\n",
       "    <tr style=\"text-align: right;\">\n",
       "      <th></th>\n",
       "      <th>fixed_acidity</th>\n",
       "      <th>volatile_acidity</th>\n",
       "      <th>citric_acid</th>\n",
       "      <th>residual_sugar</th>\n",
       "      <th>chlorides</th>\n",
       "      <th>free_sulfur_dioxide</th>\n",
       "      <th>total_sulfur_dioxide</th>\n",
       "      <th>density</th>\n",
       "      <th>pH</th>\n",
       "      <th>sulphates</th>\n",
       "      <th>alcohol</th>\n",
       "      <th>quality</th>\n",
       "      <th>is_red</th>\n",
       "    </tr>\n",
       "  </thead>\n",
       "  <tbody>\n",
       "    <tr>\n",
       "      <th>0</th>\n",
       "      <td>7.4</td>\n",
       "      <td>0.70</td>\n",
       "      <td>0.00</td>\n",
       "      <td>1.9</td>\n",
       "      <td>0.076</td>\n",
       "      <td>11.0</td>\n",
       "      <td>34.0</td>\n",
       "      <td>0.9978</td>\n",
       "      <td>3.51</td>\n",
       "      <td>0.56</td>\n",
       "      <td>9.4</td>\n",
       "      <td>5</td>\n",
       "      <td>1</td>\n",
       "    </tr>\n",
       "    <tr>\n",
       "      <th>1</th>\n",
       "      <td>7.8</td>\n",
       "      <td>0.88</td>\n",
       "      <td>0.00</td>\n",
       "      <td>2.6</td>\n",
       "      <td>0.098</td>\n",
       "      <td>25.0</td>\n",
       "      <td>67.0</td>\n",
       "      <td>0.9968</td>\n",
       "      <td>3.20</td>\n",
       "      <td>0.68</td>\n",
       "      <td>9.8</td>\n",
       "      <td>5</td>\n",
       "      <td>1</td>\n",
       "    </tr>\n",
       "    <tr>\n",
       "      <th>2</th>\n",
       "      <td>7.8</td>\n",
       "      <td>0.76</td>\n",
       "      <td>0.04</td>\n",
       "      <td>2.3</td>\n",
       "      <td>0.092</td>\n",
       "      <td>15.0</td>\n",
       "      <td>54.0</td>\n",
       "      <td>0.9970</td>\n",
       "      <td>3.26</td>\n",
       "      <td>0.65</td>\n",
       "      <td>9.8</td>\n",
       "      <td>5</td>\n",
       "      <td>1</td>\n",
       "    </tr>\n",
       "    <tr>\n",
       "      <th>3</th>\n",
       "      <td>11.2</td>\n",
       "      <td>0.28</td>\n",
       "      <td>0.56</td>\n",
       "      <td>1.9</td>\n",
       "      <td>0.075</td>\n",
       "      <td>17.0</td>\n",
       "      <td>60.0</td>\n",
       "      <td>0.9980</td>\n",
       "      <td>3.16</td>\n",
       "      <td>0.58</td>\n",
       "      <td>9.8</td>\n",
       "      <td>6</td>\n",
       "      <td>1</td>\n",
       "    </tr>\n",
       "    <tr>\n",
       "      <th>4</th>\n",
       "      <td>7.4</td>\n",
       "      <td>0.70</td>\n",
       "      <td>0.00</td>\n",
       "      <td>1.9</td>\n",
       "      <td>0.076</td>\n",
       "      <td>11.0</td>\n",
       "      <td>34.0</td>\n",
       "      <td>0.9978</td>\n",
       "      <td>3.51</td>\n",
       "      <td>0.56</td>\n",
       "      <td>9.4</td>\n",
       "      <td>5</td>\n",
       "      <td>1</td>\n",
       "    </tr>\n",
       "  </tbody>\n",
       "</table>\n",
       "</div>"
      ],
      "text/plain": [
       "   fixed_acidity  volatile_acidity  citric_acid  residual_sugar  chlorides  \\\n",
       "0            7.4              0.70         0.00             1.9      0.076   \n",
       "1            7.8              0.88         0.00             2.6      0.098   \n",
       "2            7.8              0.76         0.04             2.3      0.092   \n",
       "3           11.2              0.28         0.56             1.9      0.075   \n",
       "4            7.4              0.70         0.00             1.9      0.076   \n",
       "\n",
       "   free_sulfur_dioxide  total_sulfur_dioxide  density    pH  sulphates  \\\n",
       "0                 11.0                  34.0   0.9978  3.51       0.56   \n",
       "1                 25.0                  67.0   0.9968  3.20       0.68   \n",
       "2                 15.0                  54.0   0.9970  3.26       0.65   \n",
       "3                 17.0                  60.0   0.9980  3.16       0.58   \n",
       "4                 11.0                  34.0   0.9978  3.51       0.56   \n",
       "\n",
       "   alcohol  quality  is_red  \n",
       "0      9.4        5       1  \n",
       "1      9.8        5       1  \n",
       "2      9.8        5       1  \n",
       "3      9.8        6       1  \n",
       "4      9.4        5       1  "
      ]
     },
     "execution_count": 79,
     "metadata": {},
     "output_type": "execute_result"
    }
   ],
   "source": [
    "data.head()"
   ]
  },
  {
   "cell_type": "code",
   "execution_count": 80,
   "metadata": {},
   "outputs": [],
   "source": [
    "high_quality = (data.quality >= 7).astype(int)\n",
    "data.quality = high_quality"
   ]
  },
  {
   "cell_type": "code",
   "execution_count": 81,
   "metadata": {},
   "outputs": [
    {
     "data": {
      "text/plain": [
       "<seaborn.axisgrid.FacetGrid at 0x308bfe020>"
      ]
     },
     "execution_count": 81,
     "metadata": {},
     "output_type": "execute_result"
    },
    {
     "data": {
      "image/png": "[encoded data removed]",
      "text/plain": [
       "<Figure size 500x500 with 1 Axes>"
      ]
     },
     "metadata": {},
     "output_type": "display_data"
    }
   ],
   "source": [
    "import seaborn as sns\n",
    "sns.displot(data.quality, kde=False)"
   ]
  },
  {
   "cell_type": "code",
   "execution_count": 82,
   "metadata": {},
   "outputs": [
    {
     "data": {
      "image/png": "[encoded data removed]",
      "text/plain": [
       "<Figure size 2500x1500 with 12 Axes>"
      ]
     },
     "metadata": {},
     "output_type": "display_data"
    }
   ],
   "source": [
    "import matplotlib.pyplot as plt\n",
    "\n",
    "dims = (3, 4)\n",
    "\n",
    "f, axes = plt.subplots(dims[0], dims[1], figsize=(25, 15))\n",
    "axis_i, axis_j = 0, 0\n",
    "for col in data.columns:\n",
    "  if col == 'is_red' or col == 'quality':\n",
    "    continue # Box plots cannot be used on indicator variables\n"
   ]
  },
  {
   "cell_type": "code",
   "execution_count": 20,
   "metadata": {},
   "outputs": [
    {
     "name": "stdout",
     "output_type": "stream",
     "text": [
      "Requirement already satisfied: mlflow in /Users/virginia/.pyenv/versions/3.10/envs/thor_310/lib/python3.10/site-packages (2.14.3)\n",
      "Collecting seaborn\n",
      "  Downloading seaborn-0.13.2-py3-none-any.whl (294 kB)\n",
      "\u001b[K     |████████████████████████████████| 294 kB 2.6 MB/s eta 0:00:01\n",
      "\u001b[?25hRequirement already satisfied: numpy<2 in /Users/virginia/.pyenv/versions/3.10/envs/thor_310/lib/python3.10/site-packages (from mlflow) (1.26.0)\n",
      "Requirement already satisfied: gitpython<4,>=3.1.9 in /Users/virginia/.pyenv/versions/3.10/envs/thor_310/lib/python3.10/site-packages (from mlflow) (3.1.31)\n",
      "Requirement already satisfied: cloudpickle<4 in /Users/virginia/.pyenv/versions/3.10/envs/thor_310/lib/python3.10/site-packages (from mlflow) (3.0.0)\n",
      "Requirement already satisfied: markdown<4,>=3.3 in /Users/virginia/.pyenv/versions/3.10/envs/thor_310/lib/python3.10/site-packages (from mlflow) (3.6)\n",
      "Requirement already satisfied: pandas<3 in /Users/virginia/.pyenv/versions/3.10/envs/thor_310/lib/python3.10/site-packages (from mlflow) (2.1.1)\n",
      "Requirement already satisfied: alembic!=1.10.0,<2 in /Users/virginia/.pyenv/versions/3.10/envs/thor_310/lib/python3.10/site-packages (from mlflow) (1.12.0)\n",
      "Requirement already satisfied: matplotlib<4 in /Users/virginia/.pyenv/versions/3.10/envs/thor_310/lib/python3.10/site-packages (from mlflow) (3.9.1)\n",
      "Requirement already satisfied: gunicorn<23 in /Users/virginia/.pyenv/versions/3.10/envs/thor_310/lib/python3.10/site-packages (from mlflow) (22.0.0)\n",
      "Requirement already satisfied: requests<3,>=2.17.3 in /Users/virginia/.pyenv/versions/3.10/envs/thor_310/lib/python3.10/site-packages (from mlflow) (2.31.0)\n",
      "Requirement already satisfied: docker<8,>=4.0.0 in /Users/virginia/.pyenv/versions/3.10/envs/thor_310/lib/python3.10/site-packages (from mlflow) (7.1.0)\n",
      "Requirement already satisfied: importlib-metadata!=4.7.0,<8,>=3.7.0 in /Users/virginia/.pyenv/versions/3.10/envs/thor_310/lib/python3.10/site-packages (from mlflow) (6.11.0)\n",
      "Requirement already satisfied: scikit-learn<2 in /Users/virginia/.pyenv/versions/3.10/envs/thor_310/lib/python3.10/site-packages (from mlflow) (1.5.1)\n",
      "Requirement already satisfied: cachetools<6,>=5.0.0 in /Users/virginia/.pyenv/versions/3.10/envs/thor_310/lib/python3.10/site-packages (from mlflow) (5.3.2)\n",
      "Requirement already satisfied: Flask<4 in /Users/virginia/.pyenv/versions/3.10/envs/thor_310/lib/python3.10/site-packages (from mlflow) (3.0.2)\n",
      "Requirement already satisfied: scipy<2 in /Users/virginia/.pyenv/versions/3.10/envs/thor_310/lib/python3.10/site-packages (from mlflow) (1.14.0)\n",
      "Requirement already satisfied: sqlalchemy<3,>=1.4.0 in /Users/virginia/.pyenv/versions/3.10/envs/thor_310/lib/python3.10/site-packages (from mlflow) (1.4.49)\n",
      "Requirement already satisfied: sqlparse<1,>=0.4.0 in /Users/virginia/.pyenv/versions/3.10/envs/thor_310/lib/python3.10/site-packages (from mlflow) (0.5.0)\n",
      "Requirement already satisfied: opentelemetry-sdk<3,>=1.9.0 in /Users/virginia/.pyenv/versions/3.10/envs/thor_310/lib/python3.10/site-packages (from mlflow) (1.22.0)\n",
      "Requirement already satisfied: entrypoints<1 in /Users/virginia/.pyenv/versions/3.10/envs/thor_310/lib/python3.10/site-packages (from mlflow) (0.4)\n",
      "Requirement already satisfied: protobuf<5,>=3.12.0 in /Users/virginia/.pyenv/versions/3.10/envs/thor_310/lib/python3.10/site-packages (from mlflow) (4.24.4)\n",
      "Requirement already satisfied: pyyaml<7,>=5.1 in /Users/virginia/.pyenv/versions/3.10/envs/thor_310/lib/python3.10/site-packages (from mlflow) (6.0)\n",
      "Requirement already satisfied: packaging<25 in /Users/virginia/.pyenv/versions/3.10/envs/thor_310/lib/python3.10/site-packages (from mlflow) (23.2)\n",
      "Requirement already satisfied: querystring-parser<2 in /Users/virginia/.pyenv/versions/3.10/envs/thor_310/lib/python3.10/site-packages (from mlflow) (1.2.4)\n",
      "Requirement already satisfied: Jinja2<4,>=2.11 in /Users/virginia/.pyenv/versions/3.10/envs/thor_310/lib/python3.10/site-packages (from mlflow) (3.1.3)\n",
      "Requirement already satisfied: pytz<2025 in /Users/virginia/.pyenv/versions/3.10/envs/thor_310/lib/python3.10/site-packages (from mlflow) (2023.3.post1)\n",
      "Requirement already satisfied: click<9,>=7.0 in /Users/virginia/.pyenv/versions/3.10/envs/thor_310/lib/python3.10/site-packages (from mlflow) (8.1.7)\n",
      "Requirement already satisfied: opentelemetry-api<3,>=1.9.0 in /Users/virginia/.pyenv/versions/3.10/envs/thor_310/lib/python3.10/site-packages (from mlflow) (1.22.0)\n",
      "Requirement already satisfied: graphene<4 in /Users/virginia/.pyenv/versions/3.10/envs/thor_310/lib/python3.10/site-packages (from mlflow) (3.3)\n",
      "Requirement already satisfied: pyarrow<16,>=4.0.0 in /Users/virginia/.pyenv/versions/3.10/envs/thor_310/lib/python3.10/site-packages (from mlflow) (13.0.0)\n",
      "Requirement already satisfied: Mako in /Users/virginia/.pyenv/versions/3.10/envs/thor_310/lib/python3.10/site-packages (from alembic!=1.10.0,<2->mlflow) (1.2.4)\n",
      "Requirement already satisfied: typing-extensions>=4 in /Users/virginia/.pyenv/versions/3.10/envs/thor_310/lib/python3.10/site-packages (from alembic!=1.10.0,<2->mlflow) (4.10.0)\n",
      "Requirement already satisfied: urllib3>=1.26.0 in /Users/virginia/.pyenv/versions/3.10/envs/thor_310/lib/python3.10/site-packages (from docker<8,>=4.0.0->mlflow) (1.26.18)\n",
      "Requirement already satisfied: blinker>=1.6.2 in /Users/virginia/.pyenv/versions/3.10/envs/thor_310/lib/python3.10/site-packages (from Flask<4->mlflow) (1.7.0)\n",
      "Requirement already satisfied: Werkzeug>=3.0.0 in /Users/virginia/.pyenv/versions/3.10/envs/thor_310/lib/python3.10/site-packages (from Flask<4->mlflow) (3.0.1)\n",
      "Requirement already satisfied: itsdangerous>=2.1.2 in /Users/virginia/.pyenv/versions/3.10/envs/thor_310/lib/python3.10/site-packages (from Flask<4->mlflow) (2.1.2)\n",
      "Requirement already satisfied: gitdb<5,>=4.0.1 in /Users/virginia/.pyenv/versions/3.10/envs/thor_310/lib/python3.10/site-packages (from gitpython<4,>=3.1.9->mlflow) (4.0.10)\n",
      "Requirement already satisfied: smmap<6,>=3.0.1 in /Users/virginia/.pyenv/versions/3.10/envs/thor_310/lib/python3.10/site-packages (from gitdb<5,>=4.0.1->gitpython<4,>=3.1.9->mlflow) (5.0.0)\n",
      "Requirement already satisfied: graphql-relay<3.3,>=3.1 in /Users/virginia/.pyenv/versions/3.10/envs/thor_310/lib/python3.10/site-packages (from graphene<4->mlflow) (3.2.0)\n",
      "Requirement already satisfied: aniso8601<10,>=8 in /Users/virginia/.pyenv/versions/3.10/envs/thor_310/lib/python3.10/site-packages (from graphene<4->mlflow) (9.0.1)\n",
      "Requirement already satisfied: graphql-core<3.3,>=3.1 in /Users/virginia/.pyenv/versions/3.10/envs/thor_310/lib/python3.10/site-packages (from graphene<4->mlflow) (3.2.3)\n",
      "Requirement already satisfied: zipp>=0.5 in /Users/virginia/.pyenv/versions/3.10/envs/thor_310/lib/python3.10/site-packages (from importlib-metadata!=4.7.0,<8,>=3.7.0->mlflow) (3.17.0)\n",
      "Requirement already satisfied: MarkupSafe>=2.0 in /Users/virginia/.pyenv/versions/3.10/envs/thor_310/lib/python3.10/site-packages (from Jinja2<4,>=2.11->mlflow) (2.1.3)\n",
      "Requirement already satisfied: python-dateutil>=2.7 in /Users/virginia/.pyenv/versions/3.10/envs/thor_310/lib/python3.10/site-packages (from matplotlib<4->mlflow) (2.8.2)\n",
      "Requirement already satisfied: fonttools>=4.22.0 in /Users/virginia/.pyenv/versions/3.10/envs/thor_310/lib/python3.10/site-packages (from matplotlib<4->mlflow) (4.53.1)\n",
      "Requirement already satisfied: contourpy>=1.0.1 in /Users/virginia/.pyenv/versions/3.10/envs/thor_310/lib/python3.10/site-packages (from matplotlib<4->mlflow) (1.2.1)\n",
      "Requirement already satisfied: pyparsing>=2.3.1 in /Users/virginia/.pyenv/versions/3.10/envs/thor_310/lib/python3.10/site-packages (from matplotlib<4->mlflow) (3.1.1)\n",
      "Requirement already satisfied: kiwisolver>=1.3.1 in /Users/virginia/.pyenv/versions/3.10/envs/thor_310/lib/python3.10/site-packages (from matplotlib<4->mlflow) (1.4.5)\n",
      "Requirement already satisfied: pillow>=8 in /Users/virginia/.pyenv/versions/3.10/envs/thor_310/lib/python3.10/site-packages (from matplotlib<4->mlflow) (10.4.0)\n",
      "Requirement already satisfied: cycler>=0.10 in /Users/virginia/.pyenv/versions/3.10/envs/thor_310/lib/python3.10/site-packages (from matplotlib<4->mlflow) (0.12.1)\n",
      "Requirement already satisfied: deprecated>=1.2.6 in /Users/virginia/.pyenv/versions/3.10/envs/thor_310/lib/python3.10/site-packages (from opentelemetry-api<3,>=1.9.0->mlflow) (1.2.14)\n",
      "Requirement already satisfied: wrapt<2,>=1.10 in /Users/virginia/.pyenv/versions/3.10/envs/thor_310/lib/python3.10/site-packages (from deprecated>=1.2.6->opentelemetry-api<3,>=1.9.0->mlflow) (1.16.0)\n",
      "Requirement already satisfied: opentelemetry-semantic-conventions==0.43b0 in /Users/virginia/.pyenv/versions/3.10/envs/thor_310/lib/python3.10/site-packages (from opentelemetry-sdk<3,>=1.9.0->mlflow) (0.43b0)\n",
      "Requirement already satisfied: tzdata>=2022.1 in /Users/virginia/.pyenv/versions/3.10/envs/thor_310/lib/python3.10/site-packages (from pandas<3->mlflow) (2023.3)\n",
      "Requirement already satisfied: six>=1.5 in /Users/virginia/.pyenv/versions/3.10/envs/thor_310/lib/python3.10/site-packages (from python-dateutil>=2.7->matplotlib<4->mlflow) (1.16.0)\n",
      "Requirement already satisfied: charset-normalizer<4,>=2 in /Users/virginia/.pyenv/versions/3.10/envs/thor_310/lib/python3.10/site-packages (from requests<3,>=2.17.3->mlflow) (3.3.2)\n",
      "Requirement already satisfied: idna<4,>=2.5 in /Users/virginia/.pyenv/versions/3.10/envs/thor_310/lib/python3.10/site-packages (from requests<3,>=2.17.3->mlflow) (3.6)\n",
      "Requirement already satisfied: certifi>=2017.4.17 in /Users/virginia/.pyenv/versions/3.10/envs/thor_310/lib/python3.10/site-packages (from requests<3,>=2.17.3->mlflow) (2023.11.17)\n",
      "Requirement already satisfied: threadpoolctl>=3.1.0 in /Users/virginia/.pyenv/versions/3.10/envs/thor_310/lib/python3.10/site-packages (from scikit-learn<2->mlflow) (3.5.0)\n",
      "Requirement already satisfied: joblib>=1.2.0 in /Users/virginia/.pyenv/versions/3.10/envs/thor_310/lib/python3.10/site-packages (from scikit-learn<2->mlflow) (1.4.2)\n",
      "Installing collected packages: seaborn\n",
      "Successfully installed seaborn-0.13.2\n",
      "\u001b[33mWARNING: You are using pip version 21.2.3; however, version 24.1.2 is available.\n",
      "You should consider upgrading via the '/Users/virginia/.pyenv/versions/3.10/envs/thor_310/bin/python3 -m pip install --upgrade pip' command.\u001b[0m\n"
     ]
    }
   ],
   "source": [
    "!pip install mlflow seaborn scikit-learn"
   ]
  },
  {
   "cell_type": "code",
   "execution_count": 83,
   "metadata": {},
   "outputs": [],
   "source": [
    "from sklearn.model_selection import train_test_split\n",
    "\n",
    "X = data.drop([\"quality\"], axis=1)\n",
    "y = data.quality\n",
    "\n",
    "# Split out the training data\n",
    "X_train, X_rem, y_train, y_rem = train_test_split(X, y, train_size=0.6, random_state=123)\n",
    "\n",
    "# Split the remaining data equally into validation and test\n",
    "X_val, X_test, y_val, y_test = train_test_split(X_rem, y_rem, test_size=0.5, random_state=123)"
   ]
  },
  {
   "cell_type": "code",
   "execution_count": 84,
   "metadata": {},
   "outputs": [
    {
     "name": "stdout",
     "output_type": "stream",
     "text": [
      "      fixed_acidity  volatile_acidity  citric_acid  residual_sugar  chlorides  \\\n",
      "543             6.7              0.24         0.41            8.70      0.036   \n",
      "4540            5.8              0.28         0.30            3.90      0.026   \n",
      "1429            6.1              0.22         0.49            1.50      0.051   \n",
      "2092            5.3              0.76         0.03            2.70      0.043   \n",
      "1255            6.1              0.64         0.02            2.40      0.069   \n",
      "...             ...               ...          ...             ...        ...   \n",
      "3619            6.8              0.45         0.28           26.05      0.031   \n",
      "2461            8.2              0.26         0.33            2.60      0.053   \n",
      "1346            6.1              0.59         0.01            2.10      0.056   \n",
      "1855            8.0              0.22         0.28           14.00      0.053   \n",
      "1983            7.6              0.20         0.30           14.20      0.056   \n",
      "\n",
      "      free_sulfur_dioxide  total_sulfur_dioxide  density    pH  sulphates  \\\n",
      "543                  29.0                 148.0  0.99520  3.22       0.62   \n",
      "4540                 36.0                 105.0  0.98963  3.26       0.58   \n",
      "1429                 18.0                  87.0  0.99280  3.30       0.46   \n",
      "2092                 27.0                  93.0  0.99320  3.34       0.38   \n",
      "1255                 26.0                  46.0  0.99358  3.47       0.45   \n",
      "...                   ...                   ...      ...   ...        ...   \n",
      "3619                 27.0                 122.0  1.00295  3.06       0.42   \n",
      "2461                 11.0                  71.0  0.99402  2.89       0.49   \n",
      "1346                  5.0                  13.0  0.99472  3.52       0.56   \n",
      "1855                 83.0                 197.0  0.99810  3.14       0.45   \n",
      "1983                 53.0                 212.5  0.99900  3.14       0.46   \n",
      "\n",
      "      alcohol  is_red  \n",
      "543      9.90       0  \n",
      "4540    12.75       0  \n",
      "1429     9.60       0  \n",
      "2092     9.20       0  \n",
      "1255    11.00       1  \n",
      "...       ...     ...  \n",
      "3619    10.60       0  \n",
      "2461     9.50       0  \n",
      "1346    11.40       1  \n",
      "1855     9.80       0  \n",
      "1983     8.90       0  \n",
      "\n",
      "[3898 rows x 12 columns]\n",
      "543     0\n",
      "4540    0\n",
      "1429    0\n",
      "2092    0\n",
      "1255    0\n",
      "       ..\n",
      "3619    0\n",
      "2461    0\n",
      "1346    0\n",
      "1855    0\n",
      "1983    1\n",
      "Name: quality, Length: 3898, dtype: int64\n"
     ]
    }
   ],
   "source": [
    "X_train.head()\n",
    "print(X_train)\n",
    "print(y_train)"
   ]
  },
  {
   "cell_type": "code",
   "execution_count": 85,
   "metadata": {},
   "outputs": [
    {
     "name": "stdout",
     "output_type": "stream",
     "text": [
      "RandomForestClassifier(n_estimators=10,\n",
      "                       random_state=RandomState(MT19937) at 0x17E0A0840)       fixed_acidity  volatile_acidity  citric_acid  residual_sugar  chlorides  \\\n",
      "1268            7.6              0.31         0.29            10.5      0.040   \n",
      "2085            7.9              0.17         0.32             1.6      0.053   \n",
      "990             8.6              0.16         0.38             3.4      0.040   \n",
      "3910            7.1              0.37         0.30             6.2      0.040   \n",
      "163             7.4              0.24         0.42            14.0      0.066   \n",
      "...             ...               ...          ...             ...        ...   \n",
      "1565            8.5              0.19         0.49             3.5      0.044   \n",
      "249             6.1              0.41         0.14            10.4      0.037   \n",
      "1063           10.2              0.29         0.65             2.4      0.075   \n",
      "831             5.9              0.61         0.08             2.1      0.071   \n",
      "606             9.4              0.41         0.48             4.6      0.072   \n",
      "\n",
      "      free_sulfur_dioxide  total_sulfur_dioxide  density    pH  sulphates  \\\n",
      "1268                 21.0                 145.0  0.99660  3.04       0.35   \n",
      "2085                 47.0                 150.0  0.99480  3.29       0.76   \n",
      "990                  41.0                 143.0  0.99320  2.95       0.39   \n",
      "3910                 49.0                 139.0  0.99021  3.17       0.27   \n",
      "163                  48.0                 198.0  0.99790  2.89       0.42   \n",
      "...                   ...                   ...      ...   ...        ...   \n",
      "1565                 29.0                 117.0  0.99380  3.14       0.51   \n",
      "249                  18.0                 119.0  0.99600  3.38       0.45   \n",
      "1063                  6.0                  17.0  0.99565  3.22       0.63   \n",
      "831                  16.0                  24.0  0.99376  3.56       0.77   \n",
      "606                  10.0                  20.0  0.99730  3.34       0.79   \n",
      "\n",
      "      alcohol  is_red  \n",
      "1268      9.4       0  \n",
      "2085      9.6       0  \n",
      "990      10.2       0  \n",
      "3910     13.6       0  \n",
      "163       8.9       0  \n",
      "...       ...     ...  \n",
      "1565     10.1       0  \n",
      "249      10.0       0  \n",
      "1063     11.8       1  \n",
      "831      11.1       1  \n",
      "606      12.2       1  \n",
      "\n",
      "[1300 rows x 12 columns]\n"
     ]
    },
    {
     "name": "stderr",
     "output_type": "stream",
     "text": [
      "/Users/virginia/.pyenv/versions/3.10/envs/thor_310/lib/python3.10/site-packages/mlflow/types/utils.py:406: UserWarning: Hint: Inferred schema contains integer column(s). Integer columns in Python cannot represent missing values. If your input data contains missing values at inference time, it will be encoded as floats and will cause a schema enforcement error. The best way to avoid this problem is to infer the model schema based on a realistic data sample (training dataset) that includes missing values. Alternatively, you can declare integer columns as doubles (float64) whenever these columns may have missing values. See `Handling Integers With Missing Values <https://www.mlflow.org/docs/latest/models.html#handling-integers-with-missing-values>`_ for more details.\n",
      "  warnings.warn(\n",
      "/Users/virginia/.pyenv/versions/3.10/envs/thor_310/lib/python3.10/site-packages/_distutils_hack/__init__.py:18: UserWarning: Distutils was imported before Setuptools, but importing Setuptools also replaces the `distutils` module in `sys.modules`. This may lead to undesirable behaviors or errors. To avoid these issues, avoid using distutils directly, ensure that setuptools is installed in the traditional way (e.g. not an editable install), and/or make sure that setuptools is always imported before distutils.\n",
      "  warnings.warn(\n",
      "/Users/virginia/.pyenv/versions/3.10/envs/thor_310/lib/python3.10/site-packages/_distutils_hack/__init__.py:33: UserWarning: Setuptools is replacing distutils.\n",
      "  warnings.warn(\"Setuptools is replacing distutils.\")\n"
     ]
    }
   ],
   "source": [
    "import mlflow\n",
    "import mlflow.pyfunc\n",
    "import mlflow.sklearn\n",
    "import numpy as np\n",
    "import sklearn\n",
    "from sklearn.ensemble import RandomForestClassifier\n",
    "from sklearn.metrics import roc_auc_score\n",
    "from mlflow.models.signature import infer_signature\n",
    "from mlflow.utils.environment import _mlflow_conda_env\n",
    "import cloudpickle\n",
    "import time\n",
    "\n",
    "# The predict method of sklearn's RandomForestClassifier returns a binary classification (0 or 1). \n",
    "# The following code creates a wrapper function, SklearnModelWrapper, that uses \n",
    "# the predict_proba method to return the probability that the observation belongs to each class. \n",
    "\n",
    "class SklearnModelWrapper(mlflow.pyfunc.PythonModel):\n",
    "  def __init__(self, model):\n",
    "    self.model = model\n",
    "    \n",
    "  def predict(self, context, model_input):\n",
    "    return self.model.predict_proba(model_input)[:,1]\n",
    "\n",
    "# mlflow.start_run creates a new MLflow run to track the performance of this model. \n",
    "# Within the context, you call mlflow.log_param to keep track of the parameters used, and\n",
    "# mlflow.log_metric to record metrics like accuracy.\n",
    "with mlflow.start_run(run_name='untuned_random_forest'):\n",
    "  n_estimators = 10\n",
    "  model = RandomForestClassifier(n_estimators=n_estimators, random_state=np.random.RandomState(123))\n",
    "  model.fit(X_train, y_train)\n",
    "  print(model, X_test)\n",
    "  # predict_proba returns [prob_negative, prob_positive], so slice the output with [:, 1]\n",
    "  predictions_test = model.predict_proba(X_test)[:,1]\n",
    "  auc_score = roc_auc_score(y_test, predictions_test)\n",
    "  mlflow.log_param('n_estimators', n_estimators)\n",
    "  # Use the area under the ROC curve as a metric.\n",
    "  mlflow.log_metric('auc', auc_score)\n",
    "  wrappedModel = SklearnModelWrapper(model)\n",
    "  # Log the model with a signature that defines the schema of the model's inputs and outputs. \n",
    "  # When the model is deployed, this signature will be used to validate inputs.\n",
    "  signature = infer_signature(X_train, wrappedModel.predict(None, X_train))\n",
    "  \n",
    "  # MLflow contains utilities to create a conda environment used to serve models.\n",
    "  # The necessary dependencies are added to a conda.yaml file which is logged along with the model.\n",
    "  conda_env =  _mlflow_conda_env(\n",
    "        additional_conda_deps=None,\n",
    "        additional_pip_deps=[\"cloudpickle=={}\".format(cloudpickle.__version__), \"scikit-learn=={}\".format(sklearn.__version__)],\n",
    "        additional_conda_channels=None,\n",
    "    )\n",
    "  mlflow.pyfunc.log_model(\"random_forest_model\", python_model=wrappedModel, conda_env=conda_env, signature=signature)"
   ]
  },
  {
   "cell_type": "code",
   "execution_count": 86,
   "metadata": {},
   "outputs": [
    {
     "data": {
      "text/plain": [
       "'3723d7b7d6794e6ba095eceebdc5fab6'"
      ]
     },
     "execution_count": 86,
     "metadata": {},
     "output_type": "execute_result"
    }
   ],
   "source": [
    "run_id = mlflow.search_runs(filter_string='tags.mlflow.runName = \"untuned_random_forest\"').iloc[0].run_id\n",
    "run_id"
   ]
  },
  {
   "cell_type": "code",
   "execution_count": 87,
   "metadata": {},
   "outputs": [
    {
     "name": "stderr",
     "output_type": "stream",
     "text": [
      "Registered model 'wine_quality' already exists. Creating a new version of this model...\n",
      "Created version '2' of model 'wine_quality'.\n"
     ]
    }
   ],
   "source": [
    "model_name = \"wine_quality\"\n",
    "model_version = mlflow.register_model(f\"runs:/{run_id}/random_forest_model\", model_name)\n",
    "\n",
    "# Registering the model takes a few seconds, so add a small delay\n",
    "time.sleep(15)"
   ]
  },
  {
   "cell_type": "code",
   "execution_count": 88,
   "metadata": {},
   "outputs": [
    {
     "name": "stderr",
     "output_type": "stream",
     "text": [
      "/var/folders/q0/hzvldg5j5vv_b6qpkbyrd8y80000gp/T/ipykernel_24692/3087969861.py:4: FutureWarning: ``mlflow.tracking.client.MlflowClient.transition_model_version_stage`` is deprecated since 2.9.0. Model registry stages will be removed in a future major release. To learn more about the deprecation of model registry stages, see our migration guide here: https://mlflow.org/docs/latest/model-registry.html#migrating-from-stages\n",
      "  client.transition_model_version_stage(\n"
     ]
    },
    {
     "data": {
      "text/plain": [
       "<ModelVersion: aliases=[], creation_timestamp=1721128273820, current_stage='Production', description=None, last_updated_timestamp=1721128297833, name='wine_quality', run_id='3723d7b7d6794e6ba095eceebdc5fab6', run_link=None, source='file:///Users/virginia/Documents/workspace/test_knvb/mlruns/0/3723d7b7d6794e6ba095eceebdc5fab6/artifacts/random_forest_model', status='READY', status_message=None, tags={}, user_id=None, version=2>"
      ]
     },
     "execution_count": 88,
     "metadata": {},
     "output_type": "execute_result"
    }
   ],
   "source": [
    "from mlflow.tracking import MlflowClient\n",
    "\n",
    "client = MlflowClient()\n",
    "client.transition_model_version_stage(\n",
    "  name=model_name,\n",
    "  version=model_version.version,\n",
    "  stage=\"Production\",\n",
    ")"
   ]
  },
  {
   "cell_type": "code",
   "execution_count": 89,
   "metadata": {},
   "outputs": [
    {
     "name": "stdout",
     "output_type": "stream",
     "text": [
      "\n"
     ]
    },
    {
     "name": "stderr",
     "output_type": "stream",
     "text": [
      "/var/folders/q0/hzvldg5j5vv_b6qpkbyrd8y80000gp/T/ipykernel_24692/3849290384.py:9: FutureWarning: ``mlflow.tracking.client.MlflowClient.transition_model_version_stage`` is deprecated since 2.9.0. Model registry stages will be removed in a future major release. To learn more about the deprecation of model registry stages, see our migration guide here: https://mlflow.org/docs/latest/model-registry.html#migrating-from-stages\n",
      "  client.transition_model_version_stage(\n"
     ]
    },
    {
     "data": {
      "text/plain": [
       "<ModelVersion: aliases=[], creation_timestamp=1721128273820, current_stage='Production', description=None, last_updated_timestamp=1721128317866, name='wine_quality', run_id='3723d7b7d6794e6ba095eceebdc5fab6', run_link=None, source='file:///Users/virginia/Documents/workspace/test_knvb/mlruns/0/3723d7b7d6794e6ba095eceebdc5fab6/artifacts/random_forest_model', status='READY', status_message=None, tags={}, user_id=None, version=2>"
      ]
     },
     "execution_count": 89,
     "metadata": {},
     "output_type": "execute_result"
    }
   ],
   "source": [
    "file_model = Model(\n",
    "    path=\"mlruns/0/284424a3c6914445b4793f834c243319/artifacts/random_forest_model/python_model.pkl\",\n",
    "    name=\"local-file-example\",\n",
    "    description=\"Model created from local file.\",\n",
    ")\n",
    "ml_client.models.create_or_update(file_model)\n",
    "\n",
    "client = MlflowClient()\n",
    "client.transition_model_version_stage(\n",
    "  name=model_name,\n",
    "  version=model_version.version,\n",
    "  stage=\"Production\",\n",
    ")"
   ]
  },
  {
   "cell_type": "code",
   "execution_count": null,
   "metadata": {},
   "outputs": [],
   "source": []
  },
  {
   "cell_type": "code",
   "execution_count": null,
   "metadata": {},
   "outputs": [],
   "source": []
  }
 ],
 "metadata": {
  "kernelspec": {
   "display_name": "thor_310",
   "language": "python",
   "name": "python3"
  },
  "language_info": {
   "codemirror_mode": {
    "name": "ipython",
    "version": 3
   },
   "file_extension": ".py",
   "mimetype": "text/x-python",
   "name": "python",
   "nbconvert_exporter": "python",
   "pygments_lexer": "ipython3",
   "version": "3.10.0"
  }
 },
 "nbformat": 4,
 "nbformat_minor": 2
}
